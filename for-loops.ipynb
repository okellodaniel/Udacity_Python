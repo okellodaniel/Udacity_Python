{
 "cells": [
  {
   "cell_type": "code",
   "execution_count": null,
   "metadata": {},
   "outputs": [],
   "source": [
    "city = ['new york', \"new jersey\",\"kampala\", \"lusaka\",\"nairobi\"]\n",
    "\n",
    "for i in range(len(city)):\n",
    "    city[i] = city[i].title()\n",
    "print(city)"
   ]
  }
 ],
 "metadata": {
  "language_info": {
   "name": "python"
  },
  "orig_nbformat": 4
 },
 "nbformat": 4,
 "nbformat_minor": 2
}
